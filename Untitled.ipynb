{
 "cells": [
  {
   "cell_type": "code",
   "execution_count": 6,
   "id": "43b06cf1-26cb-410b-9a09-d3b981f01ff5",
   "metadata": {},
   "outputs": [
    {
     "name": "stdout",
     "output_type": "stream",
     "text": [
      "Singular Nouns:\n",
      "['sample', 'corpus', 'cat', 'mat']\n"
     ]
    }
   ],
   "source": [
    "import spacy\n",
    "\n",
    "# Load the spaCy English language model\n",
    "nlp = spacy.load(\"en_core_web_sm\")\n",
    "\n",
    "# Example corpus (replace this with your actual corpus)\n",
    "corpus = \"\"\"\n",
    "This is a sample corpus. It contains multiple sentences with various words.\n",
    "Some words are singular nouns, and others are not. The cat is sleeping on the mat.\n",
    "\"\"\"\n",
    "\n",
    "# Process the corpus with spaCy NLP pipeline\n",
    "doc = nlp(corpus)\n",
    "\n",
    "# Extract singular nouns\n",
    "singular_nouns = [token.text for token in doc if token.pos_ == \"NOUN\" and token.tag_ == \"NN\"]\n",
    "\n",
    "# Print the singular nouns\n",
    "print(\"Singular Nouns:\")\n",
    "print(singular_nouns)"
   ]
  }
 ],
 "metadata": {
  "kernelspec": {
   "display_name": "Python 3 (ipykernel)",
   "language": "python",
   "name": "python3"
  },
  "language_info": {
   "codemirror_mode": {
    "name": "ipython",
    "version": 3
   },
   "file_extension": ".py",
   "mimetype": "text/x-python",
   "name": "python",
   "nbconvert_exporter": "python",
   "pygments_lexer": "ipython3",
   "version": "3.10.11"
  }
 },
 "nbformat": 4,
 "nbformat_minor": 5
}
